{
 "cells": [
  {
   "cell_type": "code",
   "execution_count": 1,
   "metadata": {},
   "outputs": [],
   "source": [
    "import pandas as pd\n",
    "from math import sqrt\n",
    "import numpy as np"
   ]
  },
  {
   "cell_type": "code",
   "execution_count": 3,
   "metadata": {},
   "outputs": [
    {
     "name": "stderr",
     "output_type": "stream",
     "text": [
      "/var/folders/38/zbfzn11s771cr66zl8dvyv2w0000gn/T/ipykernel_58131/2385365961.py:1: DtypeWarning: Columns (3) have mixed types. Specify dtype option on import or set low_memory=False.\n",
      "  books = pd.read_csv(\"BX-Books.csv\", encoding = 'ISO-8859-1', on_bad_lines='skip', sep = ';')\n"
     ]
    },
    {
     "name": "stdout",
     "output_type": "stream",
     "text": [
      "<class 'pandas.core.frame.DataFrame'>\n",
      "RangeIndex: 271360 entries, 0 to 271359\n",
      "Data columns (total 8 columns):\n",
      " #   Column               Non-Null Count   Dtype \n",
      "---  ------               --------------   ----- \n",
      " 0   ISBN                 271360 non-null  object\n",
      " 1   Book-Title           271360 non-null  object\n",
      " 2   Book-Author          271359 non-null  object\n",
      " 3   Year-Of-Publication  271360 non-null  object\n",
      " 4   Publisher            271358 non-null  object\n",
      " 5   Image-URL-S          271360 non-null  object\n",
      " 6   Image-URL-M          271360 non-null  object\n",
      " 7   Image-URL-L          271357 non-null  object\n",
      "dtypes: object(8)\n",
      "memory usage: 16.6+ MB\n",
      "None\n",
      "<class 'pandas.core.frame.DataFrame'>\n",
      "RangeIndex: 1149780 entries, 0 to 1149779\n",
      "Data columns (total 3 columns):\n",
      " #   Column       Non-Null Count    Dtype \n",
      "---  ------       --------------    ----- \n",
      " 0   User-ID      1149780 non-null  int64 \n",
      " 1   ISBN         1149780 non-null  object\n",
      " 2   Book-Rating  1149780 non-null  int64 \n",
      "dtypes: int64(2), object(1)\n",
      "memory usage: 26.3+ MB\n",
      "None\n"
     ]
    }
   ],
   "source": [
    "books = pd.read_csv(\"BX-Books.csv\", encoding = 'ISO-8859-1', on_bad_lines='skip', sep = ';')\n",
    "rating = pd.read_csv(\"BX-Book-Ratings.csv\", encoding = 'ISO-8859-1', on_bad_lines='skip', sep = ';')\n",
    "print(books.info())\n",
    "print(rating.info())"
   ]
  },
  {
   "cell_type": "code",
   "execution_count": 4,
   "metadata": {},
   "outputs": [
    {
     "name": "stdout",
     "output_type": "stream",
     "text": [
      "                    Book-Title  Book-Rating\n",
      "0                     Jane Doe            8\n",
      "1           The Middle Stories           10\n",
      "2  Nights Below Station Street            3\n",
      "3                  Wild Animus            5\n",
      "4                     Airframe            1\n"
     ]
    }
   ],
   "source": [
    "userInput = [{'Book-Title' : 'Jane Doe', 'Book-Rating' : 8}, \n",
    "             {'Book-Title' : 'The Middle Stories', 'Book-Rating' : 10},\n",
    "             {'Book-Title' : 'Nights Below Station Street', 'Book-Rating' : 3},\n",
    "             {'Book-Title' : 'Wild Animus', 'Book-Rating' : 5},\n",
    "             {'Book-Title' : 'Airframe', 'Book-Rating' : 1}]\n",
    "\n",
    "inputBooks = pd.DataFrame(userInput)\n",
    "print(inputBooks)"
   ]
  },
  {
   "cell_type": "code",
   "execution_count": 5,
   "metadata": {},
   "outputs": [
    {
     "name": "stdout",
     "output_type": "stream",
     "text": [
      "         ISBN                   Book-Title  Book-Rating\n",
      "0  0771074670  Nights Below Station Street            3\n",
      "1  0887841740           The Middle Stories           10\n",
      "2  1552041778                     Jane Doe            8\n",
      "3  1551665107                     Jane Doe            8\n",
      "4  0971880107                  Wild Animus            5\n",
      "5  0345402871                     Airframe            1\n",
      "6  0679446486                     Airframe            1\n",
      "7  0613072103                     Airframe            1\n",
      "8  0679452664                     Airframe            1\n",
      "9  0679457976                     Airframe            1\n"
     ]
    }
   ],
   "source": [
    "inputISBN = books[books['Book-Title'].isin(inputBooks['Book-Title'].tolist())]\n",
    "inputBooks = pd.merge(inputISBN, inputBooks)\n",
    "inputBooks = inputBooks[['ISBN', 'Book-Title', 'Book-Rating']]\n",
    "print(inputBooks)"
   ]
  },
  {
   "cell_type": "code",
   "execution_count": 6,
   "metadata": {},
   "outputs": [
    {
     "name": "stdout",
     "output_type": "stream",
     "text": [
      "            User-ID  Book-Rating\n",
      "ISBN                            \n",
      "0345402871      207          207\n",
      "0613072103        1            1\n",
      "0679446486      120          120\n",
      "0679452664        3            3\n",
      "0679457976        1            1\n",
      "0771074670        6            6\n",
      "0887841740        2            2\n",
      "0971880107     2502         2502\n",
      "1551665107       22           22\n",
      "1552041778        1            1\n"
     ]
    }
   ],
   "source": [
    "userSubset = rating[rating['ISBN'].isin(inputBooks['ISBN'].tolist())]\n",
    "print(userSubset.groupby('ISBN').count())"
   ]
  },
  {
   "cell_type": "code",
   "execution_count": 7,
   "metadata": {},
   "outputs": [
    {
     "name": "stdout",
     "output_type": "stream",
     "text": [
      "[(11676,        User-ID        ISBN  Book-Rating\n",
      "47675    11676  0345402871            0\n",
      "52913    11676  0679446486            0\n",
      "54043    11676  0771074670            0\n",
      "55317    11676  0971880107            6), (8,       User-ID        ISBN  Book-Rating\n",
      "9573        8  0771074670            0\n",
      "9575        8  0887841740            5\n",
      "9576        8  1552041778            5), (35859,         User-ID        ISBN  Book-Rating\n",
      "161577    35859  0679452664            0\n",
      "162665    35859  0971880107            0\n",
      "162695    35859  1551665107            0), (166596,         User-ID        ISBN  Book-Rating\n",
      "683887   166596  0345402871            0\n",
      "684636   166596  0771074670            0\n",
      "684808   166596  1551665107            0), (167471,         User-ID        ISBN  Book-Rating\n",
      "687071   167471  0345402871            0\n",
      "687325   167471  0679446486           10\n",
      "687450   167471  0971880107            0)]\n"
     ]
    }
   ],
   "source": [
    "userSubsetGroup = userSubset.groupby(['User-ID'])\n",
    "\n",
    "def take_5_elem(x):\n",
    "    return len(x[1])\n",
    "\n",
    "userSubsetGroup = sorted(userSubsetGroup, key=take_5_elem, reverse=True)\n",
    "\n",
    "userSubsetGroup = userSubsetGroup[0:100]\n",
    "print(userSubsetGroup[0:5])"
   ]
  },
  {
   "cell_type": "code",
   "execution_count": 8,
   "metadata": {},
   "outputs": [],
   "source": [
    "pearsonCorrelationDict = {}\n",
    "\n",
    "for name, group in userSubsetGroup:\n",
    "    group = group.sort_values(by='ISBN')\n",
    "    inputBooks = inputBooks.sort_values(by='ISBN')\n",
    "    nRatings = len(group)\n",
    "    temp_df = inputBooks[inputBooks['ISBN'].isin(group['ISBN'].tolist())]\n",
    "    tempRatingList = temp_df['Book-Rating'].tolist()\n",
    "    tempGroupList = group['Book-Rating'].tolist()\n",
    "    \n",
    "    Sxx = sum([i**2 for i in tempRatingList]) - pow(sum(tempRatingList),2)/float(nRatings)\n",
    "    Syy = sum([i**2 for i in tempGroupList]) - pow(sum(tempGroupList),2)/float(nRatings)\n",
    "    Sxy = sum( i*j for i, j in zip(tempRatingList, tempGroupList)) - sum(tempRatingList)*sum(tempGroupList)/float(nRatings)\n",
    "\n",
    "    if Sxx != 0 and Syy != 0:\n",
    "        pearsonCorrelationDict[name] = Sxy/sqrt(Sxx*Syy)\n",
    "    else:\n",
    "        pearsonCorrelationDict[name] = 0"
   ]
  },
  {
   "cell_type": "code",
   "execution_count": 9,
   "metadata": {},
   "outputs": [
    {
     "name": "stdout",
     "output_type": "stream",
     "text": [
      "   similarityIndex  User-ID\n",
      "0         0.870388    11676\n",
      "1         0.960769        8\n",
      "2         0.000000    35859\n",
      "3         0.000000   166596\n",
      "4        -0.500000   167471\n"
     ]
    }
   ],
   "source": [
    "pearsonDF = pd.DataFrame.from_dict(pearsonCorrelationDict, orient='index')\n",
    "pearsonDF.columns = ['similarityIndex']\n",
    "pearsonDF['User-ID'] = pearsonDF.index\n",
    "pearsonDF.index = range(len(pearsonDF))\n",
    "print(pearsonDF.head())"
   ]
  },
  {
   "cell_type": "code",
   "execution_count": 10,
   "metadata": {},
   "outputs": [
    {
     "name": "stdout",
     "output_type": "stream",
     "text": [
      "    similarityIndex  User-ID\n",
      "35              1.0    93047\n",
      "47              1.0   167800\n",
      "67              1.0   247201\n",
      "33              1.0    88693\n",
      "44              1.0   161872\n"
     ]
    }
   ],
   "source": [
    "topUsers=pearsonDF.sort_values(by='similarityIndex', ascending=False)[0:50]\n",
    "print(topUsers.head())"
   ]
  },
  {
   "cell_type": "code",
   "execution_count": 11,
   "metadata": {},
   "outputs": [
    {
     "name": "stdout",
     "output_type": "stream",
     "text": [
      "    similarityIndex  User-ID        ISBN  Book-Rating\n",
      "0               1.0    93047  0001056107            8\n",
      "1               1.0    93047  0006392555            7\n",
      "2               1.0    93047  0006548180            8\n",
      "3               1.0    93047  0020093616            8\n",
      "4               1.0    93047  0020404808            0\n",
      "..              ...      ...         ...          ...\n",
      "95              1.0    93047  0070657599            7\n",
      "96              1.0    93047  0099351617            0\n",
      "97              1.0    93047  0099592207            0\n",
      "98              1.0    93047  0140034013            0\n",
      "99              1.0    93047  0140037969            8\n",
      "\n",
      "[100 rows x 4 columns]\n"
     ]
    }
   ],
   "source": [
    "topUsersRating=topUsers.merge(rating, left_on='User-ID', right_on='User-ID', how='inner')\n",
    "print(topUsersRating.head(100))"
   ]
  },
  {
   "cell_type": "code",
   "execution_count": 12,
   "metadata": {},
   "outputs": [
    {
     "name": "stdout",
     "output_type": "stream",
     "text": [
      "   similarityIndex  User-ID        ISBN  Book-Rating  weightedRating\n",
      "0              1.0    93047  0001056107            8             8.0\n",
      "1              1.0    93047  0006392555            7             7.0\n",
      "2              1.0    93047  0006548180            8             8.0\n",
      "3              1.0    93047  0020093616            8             8.0\n",
      "4              1.0    93047  0020404808            0             0.0\n"
     ]
    }
   ],
   "source": [
    "topUsersRating['weightedRating'] = topUsersRating['similarityIndex']*topUsersRating['Book-Rating']\n",
    "print(topUsersRating.head())"
   ]
  },
  {
   "cell_type": "code",
   "execution_count": 13,
   "metadata": {},
   "outputs": [
    {
     "name": "stdout",
     "output_type": "stream",
     "text": [
      "               sum_similarityIndex  sum_weightedRating\n",
      "ISBN                                                  \n",
      " 9022906116               0.870388            6.092718\n",
      "0 7336 1053 6             0.870388            0.000000\n",
      "0000000000                0.870388            7.833495\n",
      "00000000000               0.870388            6.963106\n",
      "0001055666                0.870388            7.833495\n"
     ]
    }
   ],
   "source": [
    "tempTopUsersRating = topUsersRating.groupby('ISBN').sum()[['similarityIndex','weightedRating']]\n",
    "tempTopUsersRating.columns = ['sum_similarityIndex','sum_weightedRating']\n",
    "print(tempTopUsersRating.head())"
   ]
  },
  {
   "cell_type": "code",
   "execution_count": 14,
   "metadata": {},
   "outputs": [
    {
     "name": "stdout",
     "output_type": "stream",
     "text": [
      "               weighted average recommendation score           ISBN\n",
      "ISBN                                                               \n",
      " 9022906116                                      7.0     9022906116\n",
      "0 7336 1053 6                                    0.0  0 7336 1053 6\n",
      "0000000000                                       9.0     0000000000\n",
      "00000000000                                      8.0    00000000000\n",
      "0001055666                                       9.0     0001055666\n",
      "0001056107                                       8.0     0001056107\n",
      "000123207X                                       NaN     000123207X\n",
      "0001232088                                       NaN     0001232088\n",
      "0001837397                                       0.0     0001837397\n",
      "0001841572                                       0.0     0001841572\n"
     ]
    }
   ],
   "source": [
    "recommendation_df = pd.DataFrame()\n",
    "\n",
    "recommendation_df['weighted average recommendation score'] = tempTopUsersRating['sum_weightedRating']/tempTopUsersRating['sum_similarityIndex']\n",
    "recommendation_df['ISBN'] = tempTopUsersRating.index\n",
    "print(recommendation_df.head(10))"
   ]
  },
  {
   "cell_type": "code",
   "execution_count": 15,
   "metadata": {},
   "outputs": [
    {
     "name": "stdout",
     "output_type": "stream",
     "text": [
      "               weighted average recommendation score           ISBN\n",
      "ISBN                                                               \n",
      "0446527130                                      10.0     0446527130\n",
      "0373712006                                      10.0     0373712006\n",
      "0373790058                                      10.0     0373790058\n",
      "0140265988                                      10.0     0140265988\n",
      "0751520195                                      10.0     0751520195\n",
      "...                                              ...            ...\n",
      "9783499191411                                    NaN  9783499191411\n",
      "9997407210                                       NaN     9997407210\n",
      "B000023VWQ                                       NaN     B000023VWQ\n",
      "B0000DAPP1                                       NaN     B0000DAPP1\n",
      "THECATASTROPH                                    NaN  THECATASTROPH\n",
      "\n",
      "[33337 rows x 2 columns]\n"
     ]
    }
   ],
   "source": [
    "recommendation_df = recommendation_df.sort_values(by = 'weighted average recommendation score', ascending = False)\n",
    "print(recommendation_df)"
   ]
  },
  {
   "cell_type": "code",
   "execution_count": 16,
   "metadata": {},
   "outputs": [
    {
     "name": "stdout",
     "output_type": "stream",
     "text": [
      "              ISBN                                         Book-Title  \\\n",
      "1       0002005018                                       Clara Callan   \n",
      "2       0060973129                               Decision in Normandy   \n",
      "3       0374157065  Flu: The Story of the Great Influenza Pandemic...   \n",
      "4       0393045218                             The Mummies of Urumchi   \n",
      "5       0399135782                             The Kitchen God's Wife   \n",
      "...            ...                                                ...   \n",
      "271299  0801042615             Reservoir Road Adventure (Voyager Ser)   \n",
      "271300  0803267177           Wigwam Evenings: Sioux Folk Tales Retold   \n",
      "271301  0843101083                     Off-The-Wall (Mad Libs, No. 6)   \n",
      "271302  0875346235  The Dream Violin and Other Stories of Families...   \n",
      "271303  0898860792                               Cross-country skiing   \n",
      "\n",
      "                    Book-Author Year-Of-Publication  \\\n",
      "1          Richard Bruce Wright                2001   \n",
      "2                  Carlo D'Este                1991   \n",
      "3              Gina Bari Kolata                1999   \n",
      "4               E. J. W. Barber                1999   \n",
      "5                       Amy Tan                1991   \n",
      "...                         ...                 ...   \n",
      "271299           Erna M. Holyer                1982   \n",
      "271300       Charles A. Eastman                1990   \n",
      "271301              Roger Price                1970   \n",
      "271302  Highlights for Children                2003   \n",
      "271303             Ned Gillette                1983   \n",
      "\n",
      "                           Publisher  \\\n",
      "1              HarperFlamingo Canada   \n",
      "2                    HarperPerennial   \n",
      "3               Farrar Straus Giroux   \n",
      "4         W. W. Norton &amp; Company   \n",
      "5                   Putnam Pub Group   \n",
      "...                              ...   \n",
      "271299               Baker Pub Group   \n",
      "271300  University of Nebraska Press   \n",
      "271301             Price Stern Sloan   \n",
      "271302             Boyds Mills Press   \n",
      "271303                  Mountaineers   \n",
      "\n",
      "                                              Image-URL-S  \\\n",
      "1       http://images.amazon.com/images/P/0002005018.0...   \n",
      "2       http://images.amazon.com/images/P/0060973129.0...   \n",
      "3       http://images.amazon.com/images/P/0374157065.0...   \n",
      "4       http://images.amazon.com/images/P/0393045218.0...   \n",
      "5       http://images.amazon.com/images/P/0399135782.0...   \n",
      "...                                                   ...   \n",
      "271299  http://images.amazon.com/images/P/0801042615.0...   \n",
      "271300  http://images.amazon.com/images/P/0803267177.0...   \n",
      "271301  http://images.amazon.com/images/P/0843101083.0...   \n",
      "271302  http://images.amazon.com/images/P/0875346235.0...   \n",
      "271303  http://images.amazon.com/images/P/0898860792.0...   \n",
      "\n",
      "                                              Image-URL-M  \\\n",
      "1       http://images.amazon.com/images/P/0002005018.0...   \n",
      "2       http://images.amazon.com/images/P/0060973129.0...   \n",
      "3       http://images.amazon.com/images/P/0374157065.0...   \n",
      "4       http://images.amazon.com/images/P/0393045218.0...   \n",
      "5       http://images.amazon.com/images/P/0399135782.0...   \n",
      "...                                                   ...   \n",
      "271299  http://images.amazon.com/images/P/0801042615.0...   \n",
      "271300  http://images.amazon.com/images/P/0803267177.0...   \n",
      "271301  http://images.amazon.com/images/P/0843101083.0...   \n",
      "271302  http://images.amazon.com/images/P/0875346235.0...   \n",
      "271303  http://images.amazon.com/images/P/0898860792.0...   \n",
      "\n",
      "                                              Image-URL-L  \n",
      "1       http://images.amazon.com/images/P/0002005018.0...  \n",
      "2       http://images.amazon.com/images/P/0060973129.0...  \n",
      "3       http://images.amazon.com/images/P/0374157065.0...  \n",
      "4       http://images.amazon.com/images/P/0393045218.0...  \n",
      "5       http://images.amazon.com/images/P/0399135782.0...  \n",
      "...                                                   ...  \n",
      "271299  http://images.amazon.com/images/P/0801042615.0...  \n",
      "271300  http://images.amazon.com/images/P/0803267177.0...  \n",
      "271301  http://images.amazon.com/images/P/0843101083.0...  \n",
      "271302  http://images.amazon.com/images/P/0875346235.0...  \n",
      "271303  http://images.amazon.com/images/P/0898860792.0...  \n",
      "\n",
      "[29368 rows x 8 columns]\n"
     ]
    }
   ],
   "source": [
    "recommended_book = books.loc[books['ISBN'].isin(recommendation_df['ISBN'])]\n",
    "\n",
    "recommended_book = recommended_book.loc[~recommended_book.ISBN.isin(userSubset['ISBN'])]\n",
    "\n",
    "print(recommended_book)"
   ]
  }
 ],
 "metadata": {
  "kernelspec": {
   "display_name": "Python 3.9.12 (conda)",
   "language": "python",
   "name": "python3"
  },
  "language_info": {
   "codemirror_mode": {
    "name": "ipython",
    "version": 3
   },
   "file_extension": ".py",
   "mimetype": "text/x-python",
   "name": "python",
   "nbconvert_exporter": "python",
   "pygments_lexer": "ipython3",
   "version": "3.9.12"
  },
  "orig_nbformat": 4,
  "vscode": {
   "interpreter": {
    "hash": "997e5252988b876e8933ff4dbfe182b9698899dbf1fdd29c1bdb410ee24b5e9d"
   }
  }
 },
 "nbformat": 4,
 "nbformat_minor": 2
}
